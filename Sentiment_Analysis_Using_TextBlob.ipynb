{
 "cells": [
  {
   "cell_type": "code",
   "execution_count": 3,
   "metadata": {
    "scrolled": true
   },
   "outputs": [],
   "source": [
    "import pandas as pd\n",
    "import numpy as np\n",
    "import nltk\n",
    "nltk.download('punkt')\n",
    "from nltk.corpus import stopwords\n",
    "from textblob import TextBlob\n",
    "\n",
    "df=pd.read_excel('Input_path')\n",
    "\n",
    "stopwords = stopwords.words('english')\n",
    "\n",
    "df['Comments'] = df['Comments'].astype(\"str\")\n",
    "df['Comments'] = df['Comments'].str.lower()\n",
    "df['Comments'] = df['Comments'].str.replace(\".\",\"\")\n",
    "df['Comments'] = df['Comments'].str.replace(\",\",\"\")\n",
    "df['Comments'] = df['Comments'].str.replace(\"?\",\"\")\n",
    "df['Comments'] = df['Comments'].str.replace(\"/\",\"\")\n",
    "df['Comments'] = df['Comments'].str.replace(\"-\",\"\")\n",
    "df['Comments'] = df['Comments'].str.replace(\":\",\"\")\n",
    "df['Comments'] = df['Comments'].str.replace(\"!\",\"\")\n",
    "df['Comments'] = df['Comments'].str.replace(\"&\",\"\")\n",
    "df['Comments'] = df['Comments'].str.replace(\"(\",\"\")\n",
    "df['Comments'] = df['Comments'].str.replace(\")\",\"\")\n",
    "\n",
    "\n",
    "df['Comments'] = df['Comments'].apply(nltk.word_tokenize)\n",
    "\n",
    "for i in range(0,55):\n",
    "    for word in df['Comments'][i]:\n",
    "        if word in stopwords:\n",
    "            df['Comments'][i].remove(word)\n",
    "            \n",
    "df['Comments'] = df['Comments'].apply(', '.join)\n",
    "df['Comments'] = df['Comments'].str.replace(\",\",\"\")\n",
    "\n",
    "df['Comments'] = df['Comments'].astype(\"str\")\n",
    "\n",
    "pol = lambda x : TextBlob(x).sentiment.polarity\n",
    "sub = lambda x : TextBlob(x).sentiment.subjectivity\n",
    "\n",
    "df[\"Polarity\"] = df[\"Comments\"].apply(pol)\n",
    "df[\"Subjectivity\"] = df[\"Comments\"].apply(sub)\n",
    "\n",
    "print(df.head())\n",
    "\n",
    "df.to_excel(\"Output_path\")\n",
    "\n",
    "print(\"Completed\")\n"
   ]
  },
  {
   "cell_type": "code",
   "execution_count": null,
   "metadata": {},
   "outputs": [],
   "source": []
  }
 ],
 "metadata": {
  "kernelspec": {
   "display_name": "Python 3",
   "language": "python",
   "name": "python3"
  },
  "language_info": {
   "codemirror_mode": {
    "name": "ipython",
    "version": 3
   },
   "file_extension": ".py",
   "mimetype": "text/x-python",
   "name": "python",
   "nbconvert_exporter": "python",
   "pygments_lexer": "ipython3",
   "version": "3.7.4"
  }
 },
 "nbformat": 4,
 "nbformat_minor": 2
}
